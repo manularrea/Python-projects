{
 "cells": [
  {
   "cell_type": "markdown",
   "metadata": {},
   "source": [
    "**Nombre:** Manuela <br>\n",
    "**Apellidos:** Larrea Gómez \n",
    "# **Práctica 1 Python: Ejercicio 1**\n",
    "<hr>\n",
    "\n",
    "## Requerimientos del sistema\n",
    "\n",
    "* Versión de Python: 3.11.4 o superior\n"
   ]
  },
  {
   "cell_type": "markdown",
   "metadata": {},
   "source": [
    "## Enunciado 1"
   ]
  },
  {
   "cell_type": "markdown",
   "metadata": {},
   "source": [
    "**1.** (0.25 pts) Escribe un función que solicite al usuario una lista de números positivos y/o negativos y, utilizando una comprensión de lista, genere otra con los números de la lista original que cumplen (A LA VEZ): Son positivos, son divisibles entre 11, no son múltiplos de 5.<br>\n",
    "Añade un parámetro opcional que indique el número máximo de elementos a guardar en la lista final."
   ]
  },
  {
   "cell_type": "markdown",
   "metadata": {},
   "source": [
    "### Solución"
   ]
  },
  {
   "cell_type": "code",
   "execution_count": 1,
   "metadata": {},
   "outputs": [],
   "source": [
    "def aplicar_condiciones_a_lista(max_elementos=None):\n",
    "    '''\n",
    "    Permite al usuario ingresar una lista de números y genera otra lista utilizando una comprensión de lista para filtrar los elementos que cumplen con las siguientes condiciones simultáneamente:\n",
    "        * Los números son positivos.\n",
    "        * Los números son divisibles entre 11.\n",
    "        * Los números no son múltiplos de 5.\n",
    "    Adicionalmente, se puede especificar un número máximo de elementos a incluir en la lista final.\n",
    "    Los elementos ingresados por el usuario se almacenan en una estructura de lista llamada numeros.\n",
    "\n",
    "    Args:\n",
    "        max_elementos (opcional, integer): Un entero que indica el número máximo de elementos a incluir en la lista final. \n",
    "                                  Se define como \"None\" de modo que si el usuario no ingresa un número máximo de elementos a imprimir en la lista final, imprime toda la lista.\n",
    "\n",
    "    Returns:\n",
    "        lista_final (list): Una lista que contiene los números que cumplen con las condiciones especificadas.\n",
    "\n",
    "    Excepciones: \n",
    "        ValueError: Se maneja esta excepción solicitándole al usuario una lista de números válida. \n",
    "\n",
    "    '''\n",
    "\n",
    "    try:\n",
    "        numeros = [float(x) for x in input(\"Por favor, ingrese una lista de números positivos y/o negativos separados por coma: \").split(\",\")]\n",
    "        lista_final = [num for num in numeros if num > 0 and num % 11 == 0 and num % 5 != 0] \n",
    "\n",
    "        # En caso de que el usuario ingrese el parámetro opcional.\n",
    "        if max_elementos is not None:     #\n",
    "            lista_final = lista_final[:max_elementos]\n",
    "\n",
    "        return lista_final\n",
    "\n",
    "    except ValueError:\n",
    "        print(\"Error: Por favor, ingrese números válidos.\")"
   ]
  },
  {
   "cell_type": "markdown",
   "metadata": {},
   "source": [
    "#### Ejemplos del funcionamiento: "
   ]
  },
  {
   "cell_type": "code",
   "execution_count": 2,
   "metadata": {},
   "outputs": [
    {
     "name": "stdout",
     "output_type": "stream",
     "text": [
      "Lista final: [11.0, 33.0, 22.0]\n"
     ]
    }
   ],
   "source": [
    "# Ejemplo 1: Solicitar lista con límite de elementos \n",
    "# Parámetros sugeridos: 11,55,23,12,1,0,33, -33, 22\n",
    "max_elementos = 3\n",
    "resultado = aplicar_condiciones_a_lista(max_elementos)\n",
    "print(\"Lista final:\", resultado)"
   ]
  },
  {
   "cell_type": "code",
   "execution_count": 3,
   "metadata": {},
   "outputs": [
    {
     "name": "stdout",
     "output_type": "stream",
     "text": [
      "Lista final: [11.0, 33.0, 22.0]\n"
     ]
    }
   ],
   "source": [
    "# Ejemplo 2: Solicitar lista sin límite de elementos\n",
    "# Parámetros sugeridos: 11,55,23,12,1,0,33, 44, 100, 111, -11, -33\n",
    "resultado = aplicar_condiciones_a_lista()\n",
    "print(\"Lista final:\", resultado)"
   ]
  },
  {
   "cell_type": "code",
   "execution_count": 20,
   "metadata": {},
   "outputs": [
    {
     "name": "stdout",
     "output_type": "stream",
     "text": [
      "Error: Por favor, ingrese números válidos.\n"
     ]
    }
   ],
   "source": [
    "# Ejemplo 3: Ingresar valores inválidos\n",
    "# Parámetros sugeridos: a,b,c,d\n",
    "resultado = aplicar_condiciones_a_lista()"
   ]
  },
  {
   "cell_type": "markdown",
   "metadata": {},
   "source": [
    "<hr>"
   ]
  },
  {
   "cell_type": "markdown",
   "metadata": {},
   "source": [
    "## Enunciado 2"
   ]
  },
  {
   "cell_type": "markdown",
   "metadata": {},
   "source": [
    "**2.** (0.25 pts) Escribe una función llamada “comprimir” que reciba como parámetro una lista de elementos y devuelva como salida una lista de tuplas de la forma (elemento, número de repeticiones consecutivas). Además, la función debe tener un parámetro opcional, n_consec, para seleccionar solo aquellos elementos que al menos aparecen un número de veces consecutivas. <br>\n",
    "\n",
    "Por ejemplo: <br>\n",
    "&nbsp;&nbsp;comprimir([1, 1, 1, 2, 2, 3, 4, 4, 1, 1, 1, 1, 7]) = [(1,3), (2, 2), (3, 1), (4, 2), (1, 4), (7, 1)]<br>\n",
    "&nbsp;&nbsp;comprimir([1, 1, 1, 2, 2, 3, 4, 4, 1, 1, 1, 1, 7], n_consec=3) = [(1,3), (1, 4)]<br>\n",
    "\n",
    "IMPORTANTE: La lista no tiene por qué contener sólo números"
   ]
  },
  {
   "cell_type": "markdown",
   "metadata": {},
   "source": [
    "### Solución:"
   ]
  },
  {
   "cell_type": "code",
   "execution_count": 5,
   "metadata": {},
   "outputs": [],
   "source": [
    "def comprimir(lista, n_consec=None):\n",
    "    '''\n",
    "    Comprime una lista de elementos dada y devuelve una lista de tuplas de la forma (elemento, número de repeticiones consecutivas)\n",
    "\n",
    "    Args:\n",
    "        lista (list): Lista de elementos a comprimir. \n",
    "        n_consec (int, opcional): Número mínimo de repeticiones consecutivas para incluir un elemento en la lista final\n",
    "    \n",
    "    Returns:\n",
    "        resultado: Lista de tuplas (elemento, número de repeticiones consecutivas) que cumplen con las condiciones especificadas.  \n",
    "\n",
    "    '''\n",
    "    # Se inicia con este condicional como control de errores para que el código no se detenga por alguna excepcion si la lista está vacía.\n",
    "    # Fuente: https://blog.enterprisedna.co/list-index-out-of-range-in-python/      \n",
    "    if not lista:            \n",
    "        return []                           \n",
    "\n",
    "    resultado = []\n",
    "    elemento_actual = lista[0]\n",
    "    # Inicializo en 1 porque ya se encontró al menos una ocurrencia.\n",
    "    conteo_actual = 1     \n",
    "\n",
    "    # Uso range porque necesito acceder a elelementos en posiciones específicas.                                                  \n",
    "    for i in range(1, len(lista)):                    \n",
    "        if lista[i] == elemento_actual:                \n",
    "            conteo_actual += 1\n",
    "        else:\n",
    "            resultado.append((elemento_actual, conteo_actual))\n",
    "            elemento_actual = lista[i]\n",
    "            conteo_actual = 1\n",
    "    # Esta línea garantiza agregar el último elemento (porque ya no ingresa al for).\n",
    "    resultado.append((elemento_actual, conteo_actual))  \n",
    "\n",
    "    if n_consec is not None: \n",
    "        # En caso de que el usuario ingrese el parámetro opcional.                               \n",
    "        resultado = [(elemento, repeticiones) for elemento, repeticiones in resultado if repeticiones >= n_consec]                               \n",
    "\n",
    "    return resultado"
   ]
  },
  {
   "cell_type": "markdown",
   "metadata": {},
   "source": [
    "### Ejemplos de funcionamiento:"
   ]
  },
  {
   "cell_type": "code",
   "execution_count": 6,
   "metadata": {},
   "outputs": [
    {
     "name": "stdout",
     "output_type": "stream",
     "text": [
      "[(1, 3), (2, 2), (3, 1), (4, 2), (1, 4), (7, 1)]\n"
     ]
    }
   ],
   "source": [
    "# Ejemplo 1: Comprimir lista sin n_consec ingresado por el usuario.\n",
    "resultado1 = comprimir([1, 1, 1, 2, 2, 3, 4, 4, 1, 1, 1, 1, 7])\n",
    "print (resultado1)"
   ]
  },
  {
   "cell_type": "code",
   "execution_count": 7,
   "metadata": {},
   "outputs": [
    {
     "name": "stdout",
     "output_type": "stream",
     "text": [
      "[(1, 3), (1, 4)]\n"
     ]
    }
   ],
   "source": [
    "# Ejemplo 2: Comprimir lista con n_consec ingresado por el usuario.\n",
    "resultado2 = comprimir([1, 1, 1, 2, 2, 3, 4, 4, 1, 1, 1, 1, 7], n_consec=3)\n",
    "print (resultado2)"
   ]
  },
  {
   "cell_type": "code",
   "execution_count": 8,
   "metadata": {},
   "outputs": [
    {
     "name": "stdout",
     "output_type": "stream",
     "text": [
      "[]\n"
     ]
    }
   ],
   "source": [
    "#Ejemplo 3: En caso de que el usuario ingrese una lista vacía.\n",
    "print(comprimir([]))"
   ]
  },
  {
   "cell_type": "markdown",
   "metadata": {},
   "source": [
    "<hr>"
   ]
  },
  {
   "cell_type": "markdown",
   "metadata": {},
   "source": [
    "## Enunciado 3"
   ]
  },
  {
   "cell_type": "markdown",
   "metadata": {},
   "source": [
    "**3.** (0.5 pts) Crea una función llamada “dame_alumnos” que reciba como parámetros: <br>\n",
    "\n",
    "&nbsp;&nbsp;• nota_corte: Valor numérico con la nota de corte, <br>\n",
    "&nbsp;&nbsp;• calificaciones: Diccionario de la forma {<alumno 1>: [<calificacion_1>, …, <calificacion_N>],<alumno 2>: [<calificacion_1>, …, <calificacion_N>], …}, <br>\n",
    "&nbsp;&nbsp;• pasan_corte: un parámetro que deberá ser un booleano que por defecto sea True. <br>\n",
    "\n",
    "**• Output:** Una lista de los alumnos que tienen una nota media superior (pasan_corte=True) o inferior (pasan_corte=False) a la nota de corte ordenados alfabéticamente. <br>\n",
    "dame_alumnos(nota_corte = 8, calificaciones = {‘Juan’: [8,7,6], ‘María’: [9,9,10], ‘Ana’:[6,6,6], ‘Jorge’: [8,7,8.5]}),pasan_corte=True) = [Jorge, María] <br>\n",
    "\n",
    "**Bonus +0.1:** Modifica la función anterior para poder conocer los grados a los que los alumnos podrían acceder o no, cambiando el parámetro nota_corte por una lista de tuplas con los grados y su nota de corte. Por ejemplo: [(Matemáticas, 11.5), (Derecho, 9),\n",
    "(Economía, 10), (ADE, 7)]."
   ]
  },
  {
   "cell_type": "markdown",
   "metadata": {},
   "source": [
    "### Solución"
   ]
  },
  {
   "cell_type": "code",
   "execution_count": 9,
   "metadata": {},
   "outputs": [],
   "source": [
    "\n",
    "def dame_alumnos(nota_corte, calificaciones, pasan_corte = True):\n",
    "    '''\n",
    "    Llamar 'dame_alumnos' con 'nota_corte', 'calificaciones' 'pasan_corte'\n",
    "\n",
    "    Args:\n",
    "        nota_corte (integer): Valor numérico con la nota de corte\n",
    "        calificaciones (diccionario): Diccionario que contiene las notas de cada alumno de la forma: {<alumno 1>: [<calificacion_1>, …, <calificacion_N>],<alumno 2>: [<calificacion_1>, …, <calificacion_N>], …}\n",
    "        pasan_corte (boolean): Define el tipo de alumno que se desea obtener. True (por defecto): Alumnos con nota aprobatoria (superior a nota_corte). \n",
    "                               False (override): Alumnos con nota desaprobatoria (inferior a nota corte) \n",
    "    \n",
    "    Returns:\n",
    "        Lista de alumnos que cumplen la condición definida por pasan_corte.\n",
    "    '''\n",
    "\n",
    "    alumnos =[]\n",
    "    for alumno, notas in calificaciones.items():                   \n",
    "        media_calificaciones = sum(notas)/len(notas)\n",
    "        \n",
    "        #Se está tomando en cuenta sólo las notas medias, iguales o superiores, a las de corte (sin aproximaciones).\n",
    "        if ((media_calificaciones >= nota_corte) == pasan_corte):  \n",
    "            alumnos.append(alumno)  \n",
    "    alumnos.sort()\n",
    "    return(alumnos)\n",
    "\n",
    "# Ejercicio Bonus: Se modifca la función anterior para poder conocer los grados a los que los alumnos podrían acceder o no. \n",
    "def dame_alumnos_bonus(notas_corte, calificaciones, pasan_corte = True):\n",
    "\n",
    "    '''\n",
    "    Llamar 'dame_alumnos_bonus' con 'notas_corte', 'calificaciones' 'pasan_corte'\n",
    "\n",
    "    Args:\n",
    "        notas_corte (lista): Valor numérico con las notas de corte para cada grado.\n",
    "        calificaciones (diccionario): Diccionario que contiene las notas de cada alumno de la forma: {<alumno 1>: [<calificacion_1>, …, <calificacion_N>],<alumno 2>: [<calificacion_1>, …, <calificacion_N>], …}\n",
    "        pasan_corte (boolean): Define el tipo de alumno y grados que se desean obtener. True (por defecto): Grados a los que pueden acceder los alumnos (superiores a notas_corte). \n",
    "                               False (override): Grados a los que no pueden acceder los asignos (inferior a nota corte) \n",
    "    \n",
    "    Returns:\n",
    "        Lista de alumnos y los grados a los que pueden acceder o no según la definición de pasan_corte.\n",
    "    '''\n",
    "    alumnos = []\n",
    "    for alumno, notas in calificaciones.items():\n",
    "        media_calificaciones = sum(notas) / len(notas)\n",
    "\n",
    "        grados = []\n",
    "        for grado, nota_corte in notas_corte:\n",
    "            # Se está tomando en cuenta sólo las notas medias, iguales o superiores, a las de corte (sin aproximaciones).\n",
    "            if ((media_calificaciones >= nota_corte) == pasan_corte):\n",
    "                grados.append(grado)\n",
    "        alumnos.append((alumno, grados))\n",
    "    alumnos.sort()\n",
    "    return alumnos"
   ]
  },
  {
   "cell_type": "markdown",
   "metadata": {},
   "source": [
    "### Ejemplos de funcionamiento:"
   ]
  },
  {
   "cell_type": "code",
   "execution_count": 10,
   "metadata": {},
   "outputs": [
    {
     "data": {
      "text/plain": [
       "['María']"
      ]
     },
     "execution_count": 10,
     "metadata": {},
     "output_type": "execute_result"
    }
   ],
   "source": [
    "# Ejemplo 1: Valores de prueba del enunciado\n",
    "dame_alumnos(nota_corte = 8, \n",
    "             calificaciones = {\"Juan\": [8,7,6], \"María\": [9,9,10], \"Ana\":[6,6,6], \"Jorge\": [8,7,8.5]},\n",
    "             pasan_corte = True)"
   ]
  },
  {
   "cell_type": "code",
   "execution_count": 11,
   "metadata": {},
   "outputs": [
    {
     "name": "stdout",
     "output_type": "stream",
     "text": [
      "[('Juan', ['Derecho', 'Economía', 'ADE']), ('Maria', ['Derecho', 'Economía', 'ADE']), ('Pedro', ['Economía', 'ADE'])]\n"
     ]
    }
   ],
   "source": [
    "notas_corte = [(\"Matemáticas\", 11.5), (\"Derecho\", 9), (\"Economía\", 8), (\"ADE\", 7)]\n",
    "calificaciones = {\n",
    "    \"Juan\": [9, 10, 10],\n",
    "    \"Maria\": [8, 9, 10],\n",
    "    \"Pedro\": [7, 8, 9],\n",
    "}\n",
    "\n",
    "alumnos = dame_alumnos_bonus(notas_corte, calificaciones)\n",
    "\n",
    "print(alumnos)\n"
   ]
  },
  {
   "cell_type": "markdown",
   "metadata": {},
   "source": [
    "<hr>"
   ]
  },
  {
   "cell_type": "markdown",
   "metadata": {},
   "source": [
    "## Enunciado 4"
   ]
  },
  {
   "cell_type": "markdown",
   "metadata": {},
   "source": [
    "**4.** (0.5 pts) Escribe una función “dame_palabras_veces” que reciba la ruta de un fichero de\n",
    "texto y un número entero y devuelva el listado de palabras del fichero cuya frecuencia en el\n",
    "mismo es igual al número entero dado. Asume que las palabras del fichero siempre están\n",
    "separadas por espacios y haz que se ignore la diferencia entre mayúsculas y minúsculas. Se\n",
    "debe incluir control de errores suficiente para comprobar que el fichero indicado existe. Por\n",
    "ejemplo: <br>\n",
    "\n",
    "**Fichero <dummy.txt>**<br>\n",
    "Esto es una prueba Prueba para validar validar, que funciona funciona.<br>\n",
    "dame_palabra_veces(‘dummy.txt’, 2) = [‘prueba’, ‘validar’, ‘funciona’]"
   ]
  },
  {
   "cell_type": "markdown",
   "metadata": {},
   "source": [
    "### Solución:"
   ]
  },
  {
   "cell_type": "code",
   "execution_count": 12,
   "metadata": {},
   "outputs": [],
   "source": [
    "def dame_palabras_veces (fichero, frecuencia):\n",
    "\n",
    "    '''\n",
    "    Recibe la ruta de un fichero de texto y un número entero y devuelve el listado de palabras del fichero cuya frecuencia en el mismo es igual al número entero dado.\n",
    "\n",
    "    Args:\n",
    "        fichero (string): Ruta en la que se encuentra el fichero a analizar\n",
    "        frecuencia (int): Número que indica la frecuencia en las que se deben repetir las palabras que se desean retornar.\n",
    "    \n",
    "    Returns:\n",
    "        Lista de palabras dentro del fichero (ignorando caracteres especiales), separadas por espacios, que se encuentran la cantidad de veces definida por el parámetro frecuencia.\n",
    "    '''\n",
    "    try: \n",
    "        fichero = open(fichero)\n",
    "        contenido = fichero.read().lower()\n",
    "        special_char = [\"-\",\"(\",\")\",\"/\",\"@\",\";\",\":\",\"<\",\">\",\"{\",\"}\",\"+\",\"=\",\"~\",\"|\",\".\",\"!\",\"?\",\",\"]\n",
    "        contenido = \"\".join(char for char in contenido if char not in special_char) #Fuentes: https://stackoverflow.com/questions/74131083/python-to-combine-lines-of-a-text-file-and-skip-certain-records?rq=3\n",
    "                                                                                    #         https://www.w3schools.com/python/ref_string_join.asp\n",
    "        '''   \n",
    "        Con la lista de comprensión anterior, se desea obtener el siguiente comportamiento:\n",
    "\n",
    "        new_contenido = \"\"\n",
    "        for char in contenido:\n",
    "            if char not in special_char:\n",
    "                contenido = \"\".join(char)\n",
    "            contenido = new_contenido\n",
    "        '''\n",
    "        \n",
    "        lista_palabras = contenido.split(\" \")\n",
    "        veces = list(set([palabra for palabra in lista_palabras if lista_palabras.count(palabra) == frecuencia]))\n",
    "        fichero.close()\n",
    "        return veces\n",
    "    \n",
    "    except FileNotFoundError: #Fuente: https://docs.python.org/3/library/exceptions.html\n",
    "        print(f\"Error: El fichero '{fichero}' no fue encontrado.\")\n",
    "\n"
   ]
  },
  {
   "cell_type": "markdown",
   "metadata": {},
   "source": [
    "### Ejemplos de funcionamiento"
   ]
  },
  {
   "cell_type": "code",
   "execution_count": 13,
   "metadata": {},
   "outputs": [
    {
     "data": {
      "text/plain": [
       "['validar', 'funciona', 'prueba']"
      ]
     },
     "execution_count": 13,
     "metadata": {},
     "output_type": "execute_result"
    }
   ],
   "source": [
    "# Ejemplo 1: Parámetros del enunciado\n",
    "dame_palabras_veces(\"./dat/dummy.txt\",2)"
   ]
  },
  {
   "cell_type": "code",
   "execution_count": 14,
   "metadata": {},
   "outputs": [
    {
     "data": {
      "text/plain": [
       "[]"
      ]
     },
     "execution_count": 14,
     "metadata": {},
     "output_type": "execute_result"
    }
   ],
   "source": [
    "# Ejemplo 2: Cuando no se encuentran ocurrencias en el fichero iguales al parámetro frecuencia (Devuelve una lista vacía)\n",
    "dame_palabras_veces(\"./dat/dummy.txt\", 3)"
   ]
  },
  {
   "cell_type": "code",
   "execution_count": 15,
   "metadata": {},
   "outputs": [
    {
     "name": "stdout",
     "output_type": "stream",
     "text": [
      "Error: El fichero './dat/dummy2.txt' no fue encontrado.\n"
     ]
    }
   ],
   "source": [
    "# Ejemplo 3: Cuando la ruta del fichero no existe o es incorrecta.\n",
    "dame_palabras_veces(\"./dat/dummy2.txt\", 2)"
   ]
  },
  {
   "cell_type": "markdown",
   "metadata": {},
   "source": [
    "<hr>"
   ]
  },
  {
   "cell_type": "markdown",
   "metadata": {},
   "source": [
    "## Enunciado 5"
   ]
  },
  {
   "cell_type": "markdown",
   "metadata": {},
   "source": [
    "\n",
    "**5.** (0.5) Problema del opositor. Crea una función (opositor_aprueba) que dado el número de temas de una oposición (n_temas), los temas estudiados por un opositor (n_estudiado) y el número de bolas (opciones) devuelva la probabilidad de que uno de los temas que ha estudiado salga entre las bolas que le toquen.<br><br>\n",
    "**opositor_aprueba(n_temas=69, n_estudiado=30, opciones=5) = 94.87%**"
   ]
  },
  {
   "cell_type": "markdown",
   "metadata": {},
   "source": [
    "### Solución"
   ]
  },
  {
   "cell_type": "code",
   "execution_count": 16,
   "metadata": {},
   "outputs": [],
   "source": [
    "# Fuente para comprobar el enunciado: https://www.opositer.edu.es/probabilidad-temas-oposiciones/\n",
    "def opositor_aprueba(n_temas, n_estudiado, opciones):\n",
    "    \"\"\"\n",
    "  Calcula la probabilidad de que un opositor apruebe una oposición. \n",
    "\n",
    "  Args:\n",
    "    n_temas: Número de temas de la oposición.\n",
    "    n_estudiado: Número de temas estudiados por el opositor.\n",
    "    opciones: Número de bolas que le tocan al opositor.\n",
    "\n",
    "  Returns:\n",
    "    La probabilidad de que uno de los temas que ha estudiado salga entre las bolas que le toquen.\n",
    "  \"\"\"\n",
    "    n_no_estudiados = n_temas - n_estudiado\n",
    "    if n_no_estudiados < 0:\n",
    "        return (\"Numero de temas estudiado mayor al numero de temas de la oposición\")  \n",
    "\n",
    "    # Variable auxiliar para la multiplicacion de las probabilidades dentro del ciclo\n",
    "    aux = 1 \n",
    "    for i in range(0, opciones):\n",
    "        #  Se calcula la probabilidad condicional: Probabilidad de evento desfavorable\n",
    "        probabilidad_prima = n_no_estudiados / n_temas\n",
    "        n_no_estudiados -= 1\n",
    "        n_temas -= 1\n",
    "        # Se calcula la probabilidad del evento favorable (utilizando la ley mulitplicativa de la probabilidad)\n",
    "        aux = probabilidad_prima * aux \n",
    "        \n",
    "    probabilidad = (1 - aux) * 100\n",
    "    return probabilidad\n",
    "    \n",
    "    "
   ]
  },
  {
   "cell_type": "markdown",
   "metadata": {},
   "source": [
    "### Ejemplos de funcionamiento"
   ]
  },
  {
   "cell_type": "code",
   "execution_count": 17,
   "metadata": {},
   "outputs": [
    {
     "data": {
      "text/plain": [
       "94.87692900297398"
      ]
     },
     "execution_count": 17,
     "metadata": {},
     "output_type": "execute_result"
    }
   ],
   "source": [
    "# Ejemplo 1: Parámetros del enunciado\n",
    "opositor_aprueba(n_temas=69, n_estudiado=30, opciones=5)"
   ]
  },
  {
   "cell_type": "code",
   "execution_count": 18,
   "metadata": {},
   "outputs": [
    {
     "data": {
      "text/plain": [
       "'Numero de temas estudiado mayor al numero de temas de la oposición'"
      ]
     },
     "execution_count": 18,
     "metadata": {},
     "output_type": "execute_result"
    }
   ],
   "source": [
    "# Ejemplo 2: Cuando el número de temas estudiado supera el número de temas.\n",
    "opositor_aprueba(n_temas=80, n_estudiado=100, opciones=10)"
   ]
  },
  {
   "cell_type": "code",
   "execution_count": 19,
   "metadata": {},
   "outputs": [
    {
     "data": {
      "text/plain": [
       "0.0"
      ]
     },
     "execution_count": 19,
     "metadata": {},
     "output_type": "execute_result"
    }
   ],
   "source": [
    "# Ejemplo 3: Cuando el número de temas estudiados es 0\n",
    "opositor_aprueba(n_temas=69, n_estudiado=0, opciones=10)"
   ]
  }
 ],
 "metadata": {
  "kernelspec": {
   "display_name": "Python 3",
   "language": "python",
   "name": "python3"
  },
  "language_info": {
   "codemirror_mode": {
    "name": "ipython",
    "version": 3
   },
   "file_extension": ".py",
   "mimetype": "text/x-python",
   "name": "python",
   "nbconvert_exporter": "python",
   "pygments_lexer": "ipython3",
   "version": "3.11.5"
  }
 },
 "nbformat": 4,
 "nbformat_minor": 2
}
