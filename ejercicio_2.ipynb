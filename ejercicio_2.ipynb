{
 "cells": [
  {
   "cell_type": "markdown",
   "metadata": {},
   "source": [
    "**Nombre:** Manuela <br>\n",
    "**Apellidos:** Larrea Gómez \n",
    "# **Práctica 1 Python: Ejercicio 2**\n",
    "<hr>\n",
    "\n",
    "## Requerimientos del sistema\n",
    "\n",
    "* Versión de Python: 3.11.4 o superior\n",
    "* Versión del módulo Numpy: 1.25.2 o superior\n"
   ]
  },
  {
   "cell_type": "markdown",
   "metadata": {},
   "source": [
    "## NumPy – Resolver Sudokus \n",
    "<p>Escribe una función que reciba como parámetro el nombre de un fichero que contendrá un\n",
    "Sudoku completo (en forma de matriz), y devuelva si está bien solucionado o no.</p>\n",
    "\n",
    "<p>A lo largo de la función, deberás ir comprobando los distintos requisitos que debe cumplir la\n",
    "solución de un Sudoku, pero además, también debes hacer comprobaciones más básicas, como\n",
    "que los números de cada celda están en el rango y tipo correcto o que la dimensión de la matriz\n",
    "es la adecuada para un Sudoku.</p>\n",
    "\n",
    "<p>La función debe devolver un mensaje diciendo que la solución es correcta o, en caso contrario, el\n",
    "listado completo de motivos por el que la solución es incorrecta </p>"
   ]
  },
  {
   "cell_type": "code",
   "execution_count": 1,
   "metadata": {},
   "outputs": [],
   "source": [
    "# Importación de librerías\n",
    "import numpy as np"
   ]
  },
  {
   "cell_type": "code",
   "execution_count": 2,
   "metadata": {},
   "outputs": [],
   "source": [
    "def create_matriz():\n",
    "    '''\n",
    "    Crea matriz de 9x9 de integers aleatorios en el rango [1,9] \n",
    "\n",
    "    Args:\n",
    "        None\n",
    "    \n",
    "    Returns:\n",
    "        matriz (numpy.ndarray)\n",
    "    '''\n",
    "    matriz = np.random.randint(1,9, size=(9, 9))\n",
    "    return matriz\n"
   ]
  },
  {
   "cell_type": "code",
   "execution_count": 3,
   "metadata": {},
   "outputs": [],
   "source": [
    "def guardar_matriz_a_archivo(matriz):\n",
    "    '''\n",
    "    Guarda una matriz dada en un archivo txt, con delimitador de ',' entre cada elemento de la matriz. Elementos con formato int (fmt='%d')\n",
    "\n",
    "    Args:\n",
    "        Matriz (numpy.ndarray)\n",
    "\n",
    "    Returns:\n",
    "        void\n",
    "    '''\n",
    "    np.savetxt('./dat/sudoku.txt', matriz, fmt='%d', delimiter=',') # Fuente: https://numpy.org/doc/stable/reference/generated/numpy.savetxt.html"
   ]
  },
  {
   "cell_type": "code",
   "execution_count": 4,
   "metadata": {},
   "outputs": [],
   "source": [
    "#Función para importar el archivo\n",
    "def get_archivo_matriz(fichero):\n",
    "    \"\"\" \n",
    "    Carga archivo en formato .txt, con delimitador ',' y retorna matriz \n",
    "    \n",
    "    Args:\n",
    "        fichero (String): Ruta del archivo a importar\n",
    "    \n",
    "    Returns:\n",
    "        matriz (numpy.ndarray): matriz creada a partir de la información del archivo.\n",
    "\n",
    "    \"\"\"\n",
    "    try:\n",
    "        return np.loadtxt(fichero, dtype=int, delimiter=\",\")\n",
    "    except FileNotFoundError: #Fuente: https://docs.python.org/3/library/exceptions.html\n",
    "        print(f\"Error: El fichero '{fichero}' no fue encontrado.\")\n",
    "        return None"
   ]
  },
  {
   "cell_type": "code",
   "execution_count": 5,
   "metadata": {},
   "outputs": [],
   "source": [
    "def comprobar_tamano_matriz(matriz):\n",
    "    \"\"\"\n",
    "    Comprueba si la matriz dada tiene el tamaño 9x9\n",
    "    \n",
    "    Args:\n",
    "        matriz (numpy.ndarray)\n",
    "\n",
    "    Return:\n",
    "        Boolean: True si cumple la comprobación, False de lo contrario\n",
    "    \"\"\"\n",
    "\n",
    "    if len(matriz)!=9 or len(matriz[0])!=9:\n",
    "        return False\n",
    "    else:\n",
    "        return True"
   ]
  },
  {
   "cell_type": "code",
   "execution_count": 6,
   "metadata": {},
   "outputs": [],
   "source": [
    "def comprobar_numeros(matriz):\n",
    "    \"\"\"\n",
    "    Comprueba si los números de la matriz están dentro del rango [1, 9]\n",
    "    \n",
    "    Args:\n",
    "        matriz (numpy.ndarray)\n",
    "\n",
    "    Return:\n",
    "        Boolean: True si los números dentro de la matriz se encuentran dentro del rango 1,9. Falso de lo contrario.\n",
    "    \"\"\"\n",
    "    aux_bool = ''\n",
    "    for i in range(len(matriz)):\n",
    "        for j in range(len(matriz[0])):\n",
    "            num = matriz[i][j]\n",
    "            # Para evitar que el código se rompa si el valor de la matriz no es un int.\n",
    "            try:\n",
    "                num = int(num)\n",
    "            except:\n",
    "                return False\n",
    "            if 1<= num <= 9:\n",
    "                aux_bool = True\n",
    "            else:\n",
    "                return False\n",
    "    return aux_bool"
   ]
  },
  {
   "cell_type": "code",
   "execution_count": 7,
   "metadata": {},
   "outputs": [],
   "source": [
    "def comprobar_filas(matriz, dimension):\n",
    "    \"\"\"\n",
    "    Comprueba si en las filas de la matriz existen números repetidos\n",
    "    \n",
    "    Args:\n",
    "        matriz (numpy.ndarray)\n",
    "\n",
    "    Return:\n",
    "        Boolean: True si no existen números repetidos False de lo contrario.\n",
    "                 Return False:\n",
    "                               En caso de que existan números repetidos, retorna el número de la fila con dicha repetición.\n",
    "    \"\"\"\n",
    "    for i in range(dimension):\n",
    "        fila = matriz[i]\n",
    "        if len(set(fila)) != 9:\n",
    "            return (False, i+1)\n",
    "    return True"
   ]
  },
  {
   "cell_type": "code",
   "execution_count": 8,
   "metadata": {},
   "outputs": [],
   "source": [
    "def comprobar_columnas(matriz, dimension):\n",
    "    \"\"\"\n",
    "    Comprueba si en las columnas de la matriz existen números repetidos\n",
    "    \n",
    "    Args:\n",
    "        matriz (numpy.ndarray)\n",
    "\n",
    "    Return:\n",
    "        Boolean: True si no existen números repetidos False de lo contrario.\n",
    "                 Return False:\n",
    "                               En caso de que existan números repetidos, retorna el número de la columna con dicha repetición.\n",
    "    \"\"\"\n",
    "\n",
    "    for i in range(dimension): \n",
    "        columna = (matriz[j][i] for j in range(dimension))\n",
    "        if len(set(columna)) != 9:\n",
    "            return (False, i+1)\n",
    "    return True"
   ]
  },
  {
   "cell_type": "code",
   "execution_count": 9,
   "metadata": {},
   "outputs": [],
   "source": [
    "def comprobar_subgrillas(matriz, dimension):\n",
    "    \"\"\"\n",
    "    Comprueba si en las subgrillas de la matriz existen números repetidos.\n",
    "    Se entiende por subgrilla como las diferentes matrices 3x3 del sudoku (9 en total).\n",
    "\n",
    "    Args:\n",
    "        matriz (numpy.ndarray)\n",
    "\n",
    "    Return:\n",
    "        Boolean: True si no existen números repetidos False de lo contrario.\n",
    "                 Return False:\n",
    "                               En caso de que existan números repetidos, retorna los índices de la subgrilla con dicha repetición.\n",
    "    \"\"\"\n",
    "    for i in range(0, dimension, 3):\n",
    "        for j in range(0, dimension, 3):\n",
    "            subgrilla = [matriz[x][y] for x in range (i, i+3) for y in range(j, j+3)]\n",
    "            if np.unique(subgrilla).size != dimension:\n",
    "                return (False, i, j)    \n",
    "    return True"
   ]
  },
  {
   "cell_type": "code",
   "execution_count": 10,
   "metadata": {},
   "outputs": [],
   "source": [
    "def comprobar_sudoku(fichero):\n",
    "    '''\n",
    "    Comprueba si un Sudoku está bien resuelto.\n",
    "\n",
    "    Args:\n",
    "    archivo: El nombre del fichero que contiene el Sudoku.\n",
    "\n",
    "    Returns:\n",
    "    Un mensaje diciendo que la solución es correcta o, en caso contrario, el listado completo de motivos por el que la solución es incorrecta.\n",
    "    '''\n",
    "\n",
    "    #  Se obtiene el contenido del archivo usando la función predefinida anteriormente\n",
    "    sudoku = get_archivo_matriz(fichero)\n",
    "    if sudoku is None:\n",
    "        return (f\"Error: El fichero '{fichero}' no fue encontrado.\")\n",
    "    \n",
    "    #   Comprueba que la matriz sea del tamaño correcto\n",
    "    if (comprobar_tamano_matriz(sudoku)==False):\n",
    "        return ('La matriz no tiene el tamaño correcto (9x9).')\n",
    "    \n",
    "    if (comprobar_numeros(sudoku)==False):\n",
    "        return ('La matriz dada no tiene el rango o formato de números correcto.')\n",
    "    \n",
    "    dimension = len(sudoku)\n",
    "\n",
    "    if (comprobar_filas(sudoku, dimension)!=True):\n",
    "        condicion, posicion = comprobar_filas(sudoku, dimension)\n",
    "        print(f'La fila {posicion} del Sudoku no es correcta.')\n",
    "    \n",
    "    \n",
    "    if (comprobar_columnas(sudoku, dimension)!=True):\n",
    "        condicion, posicion = comprobar_columnas(sudoku, dimension)\n",
    "        print(f'La columna {posicion} del Sudoku no es correcta.')\n",
    "    \n",
    "    \n",
    "    if (comprobar_subgrillas(sudoku, dimension)!=True):\n",
    "        condicion, i, j = comprobar_subgrillas(sudoku, dimension)\n",
    "        print(f\"Error en la subgrilla ({i+1}-{i+3}, {j+1}-{j+3}).\")\n",
    "\n",
    "    return('El sudoku está correcto')"
   ]
  },
  {
   "cell_type": "code",
   "execution_count": 11,
   "metadata": {},
   "outputs": [
    {
     "name": "stdout",
     "output_type": "stream",
     "text": [
      "El sudoku está correcto\n"
     ]
    }
   ],
   "source": [
    "print(comprobar_sudoku('./dat/sudoku_correcto.txt'))"
   ]
  },
  {
   "cell_type": "code",
   "execution_count": 12,
   "metadata": {},
   "outputs": [
    {
     "name": "stdout",
     "output_type": "stream",
     "text": [
      "La fila 1 del Sudoku no es correcta.\n",
      "La columna 1 del Sudoku no es correcta.\n",
      "Error en la subgrilla (1-3, 1-3).\n",
      "El sudoku está correcto\n"
     ]
    }
   ],
   "source": [
    "print(comprobar_sudoku('./dat/sudoku_incorrecto.txt'))"
   ]
  }
 ],
 "metadata": {
  "kernelspec": {
   "display_name": "Python 3",
   "language": "python",
   "name": "python3"
  },
  "language_info": {
   "codemirror_mode": {
    "name": "ipython",
    "version": 3
   },
   "file_extension": ".py",
   "mimetype": "text/x-python",
   "name": "python",
   "nbconvert_exporter": "python",
   "pygments_lexer": "ipython3",
   "version": "3.11.5"
  }
 },
 "nbformat": 4,
 "nbformat_minor": 2
}
